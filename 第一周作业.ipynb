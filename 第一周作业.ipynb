{
 "cells": [
  {
   "cell_type": "markdown",
   "metadata": {},
   "source": [
    "## Homework_2023_02_20 Python基础 之一\n",
    "指导教师：胡俊峰\n",
    "\n",
    "负责助教：李一飞 朱成轩"
   ]
  },
  {
   "cell_type": "markdown",
   "metadata": {},
   "source": [
    "### 作业分数\n",
    "2.5 -6\n",
    "\n",
    "\n",
    "虽然不扣分，但写的python代码里C/C++的味道太重了（如1.2, 2.4）"
   ]
  },
  {
   "cell_type": "markdown",
   "metadata": {},
   "source": [
    "\n",
    "### 第零部分：请认真阅读代码，理解代码的功能，先写出预想的结果。运行并检验结果是否如预期"
   ]
  },
  {
   "cell_type": "code",
   "execution_count": 137,
   "metadata": {},
   "outputs": [
    {
     "name": "stdout",
     "output_type": "stream",
     "text": [
      "9.0\n"
     ]
    },
    {
     "ename": "TypeError",
     "evalue": "can only concatenate str (not \"int\") to str",
     "output_type": "error",
     "traceback": [
      "\u001b[0;31m---------------------------------------------------------------------------\u001b[0m",
      "\u001b[0;31mTypeError\u001b[0m                                 Traceback (most recent call last)",
      "\u001b[0;32m/var/folders/nq/sx6l1hjn4fnbr9zrflb6yh0c0000gn/T/ipykernel_15566/411387068.py\u001b[0m in \u001b[0;36m<module>\u001b[0;34m\u001b[0m\n\u001b[1;32m      3\u001b[0m \u001b[0;34m\u001b[0m\u001b[0m\n\u001b[1;32m      4\u001b[0m \u001b[0mprint\u001b[0m\u001b[0;34m(\u001b[0m\u001b[0mj\u001b[0m\u001b[0;34m//\u001b[0m\u001b[0mi\u001b[0m\u001b[0;34m)\u001b[0m\u001b[0;34m\u001b[0m\u001b[0;34m\u001b[0m\u001b[0m\n\u001b[0;32m----> 5\u001b[0;31m \u001b[0mprint\u001b[0m\u001b[0;34m(\u001b[0m\u001b[0;34m'a'\u001b[0m \u001b[0;34m+\u001b[0m \u001b[0;36m1\u001b[0m\u001b[0;34m)\u001b[0m\u001b[0;34m\u001b[0m\u001b[0;34m\u001b[0m\u001b[0m\n\u001b[0m",
      "\u001b[0;31mTypeError\u001b[0m: can only concatenate str (not \"int\") to str"
     ]
    }
   ],
   "source": [
    "i = 1.1\n",
    "j = 11\n",
    "\n",
    "print(j//i)\n",
    "print('a' + 1)"
   ]
  },
  {
   "cell_type": "markdown",
   "metadata": {},
   "source": [
    "## 预想的结果\n",
    "9.0    （python保存小数不精确，i实际上比1.1要大一点）\n",
    "\n",
    "TypeError: can only concatenate str (not \"int\") to str"
   ]
  },
  {
   "cell_type": "code",
   "execution_count": null,
   "metadata": {},
   "outputs": [],
   "source": [
    "def rec_sum(n):\n",
    "    if n == 0:\n",
    "        return 0\n",
    "    else:\n",
    "        return n + rec_sum(n-1)\n",
    "    \n",
    "rec_sum(-4)  # 如果输入参数为-4，观察运行结果如何？"
   ]
  },
  {
   "cell_type": "markdown",
   "metadata": {},
   "source": [
    "## rec_sum(4)的输出结果：\n",
    "10\n",
    "## rec_sum(-4)的输出结果：\n",
    "RecursionError: maximum recursion depth exceeded in comparison"
   ]
  },
  {
   "cell_type": "code",
   "execution_count": null,
   "metadata": {},
   "outputs": [],
   "source": [
    "s = '[2,6,1,3,7,2,7]'\n",
    "nums = s[1:-1].split(\",\")\n",
    "result = [num for num in nums if nums.count(num) == 1]\n",
    "\n",
    "print(result)"
   ]
  },
  {
   "cell_type": "markdown",
   "metadata": {},
   "source": [
    "## 预想result输出结果\n",
    "['6','1','3']"
   ]
  },
  {
   "cell_type": "code",
   "execution_count": null,
   "metadata": {},
   "outputs": [],
   "source": [
    "src = {'a':{'b':1,'c':2},'d':{'e':3,'f':{'g':4}}}\n",
    "\n",
    "def flat_dict(dic):\n",
    "    res={}\n",
    "    def flat(prefix, dic):\n",
    "        for key, val in dic.items():\n",
    "            if type(val)==dict:\n",
    "                flat(prefix+'.'+key,val)\n",
    "            else:\n",
    "                res[prefix+'.'+key]=val\n",
    "    for key,val in dic.items():\n",
    "        if type(val)==dict:\n",
    "            flat(key,val)\n",
    "        else:\n",
    "            res[key]=val\n",
    "    return res\n",
    "\n",
    "print(flat_dict(src))"
   ]
  },
  {
   "cell_type": "markdown",
   "metadata": {},
   "source": [
    "## 预想的结果\n",
    "{'a.b': 1, 'a.c': 2, 'd.e': 3, 'd.f.g': 4}"
   ]
  },
  {
   "cell_type": "code",
   "execution_count": null,
   "metadata": {},
   "outputs": [],
   "source": [
    "num = 210\n",
    "result = []\n",
    "\n",
    "for factor in range(2, int(num ** 0.5) + 1):\n",
    "    '''print(\"factor is\",factor)\n",
    "    print(\"num is\",num)\n",
    "    print(\"sqrtnum+1 is\",int(num ** 0.5) + 1)'''\n",
    "    while num % factor == 0:\n",
    "        result.append(chr(factor + 48))\n",
    "        num = num // factor\n",
    "        '''print(\"[while-----\")\n",
    "        print(\"factor is\",factor)\n",
    "        print(\"num is\",num)\n",
    "        print(\"-----\")\n",
    "        print('')'''\n",
    "    factor += 1\n",
    "\n",
    "print(\"*\".join(result))"
   ]
  },
  {
   "cell_type": "markdown",
   "metadata": {},
   "source": [
    "## 预想的结果\n",
    "$2*3*5*7$ \n",
    "\n",
    "(虽然num变了，但factor的范围仍是从range(2,15) )"
   ]
  },
  {
   "cell_type": "markdown",
   "metadata": {},
   "source": [
    "\n",
    "\n",
    "### 第一部分：基础练习\n",
    "\n",
    "#### 1.1 基本数据类型，表达式，简单输入输出\n",
    "    补充完善函数定义，实现对输入容器和可迭代对象中所有值相乘，并返回结果"
   ]
  },
  {
   "cell_type": "code",
   "execution_count": null,
   "metadata": {},
   "outputs": [],
   "source": [
    "def product(container_iterable):\n",
    "    result=1\n",
    "    for i in container_iterable:\n",
    "        result*=i\n",
    "    return result\n",
    "\n",
    "# answer代码\n",
    "\n",
    "assert product([1, 4, 21]) == 84\n",
    "assert product([-4, 2.3e12, 77.23, 982, 0b101]) == -3.48863356e+18\n",
    "assert product((-3, 11, 2)) == -66\n",
    "assert product({8, 300}) == 2400\n",
    "assert product([234, 121, 23, 945, 0]) == 0\n",
    "assert product(range(1, 6)) == 120\n",
    "\n",
    "print('all tests passed')"
   ]
  },
  {
   "cell_type": "markdown",
   "metadata": {},
   "source": [
    "#### 1.2 字符串基本操作\n",
    "    给定一个字符串，将其中原来是大写的字母转为小写，小写的字母转为大写；数字不做处理\n",
    "    例如：输入：'aAsmr3idd4bgs7Dlsf9eAF'    输出：'AaSMR3IDD4BGS7dLSF9Eaf'"
   ]
  },
  {
   "cell_type": "code",
   "execution_count": null,
   "metadata": {},
   "outputs": [],
   "source": [
    "def swap_case(s):\n",
    "    ## 请补充完整代码\n",
    "    str=''\n",
    "    for i in s:\n",
    "        if 65<=ord(i)<=90:\n",
    "            str+=chr(ord(i)+32)\n",
    "        elif 97<=ord(i)<=122:\n",
    "            str+=chr(ord(i)-32)\n",
    "        else:\n",
    "            str+=i\n",
    "    return str\n",
    "\n",
    "print(swap_case(\"AaSMR3IDD4BGS7dLSF9Eaf\"))\n",
    "assert(swap_case('AaSMR3IDD4BGS7dLSF9Eaf')=='aAsmr3idd4bgs7Dlsf9eAF')"
   ]
  },
  {
   "cell_type": "markdown",
   "metadata": {},
   "source": [
    "#### 1.3 条件表达式、分支流程\n",
    "    输出和成绩对应的等级：85分及以上为A，75-84为B，60-74为C，60以下为F\n",
    "    例如：输入：84    输出：B"
   ]
  },
  {
   "cell_type": "code",
   "execution_count": null,
   "metadata": {},
   "outputs": [],
   "source": [
    "def grade(score):\n",
    "    ## 请补充完整代码\n",
    "    if(score>=85):\n",
    "        return 'A'\n",
    "    elif(score>=75):\n",
    "        return 'B'\n",
    "    elif(score>=60):\n",
    "        return 'C'\n",
    "    else:\n",
    "        return 'F'\n",
    "\n",
    "# 验证结果\n",
    "score = int(input())\n",
    "print(grade(score))\n",
    "assert(grade(85)=='A')\n",
    "assert(grade(77)=='B')\n",
    "assert(grade(60)=='C')\n",
    "assert(grade(50)=='F')"
   ]
  },
  {
   "cell_type": "markdown",
   "metadata": {},
   "source": [
    "#### 1.4 List、Tuple、Dict类型基本操作\n",
    "    新学期的选课抽签已经结束，可怜的小明只选上了这些课：['编译', '毛概', '操统']\n",
    "    （1）请在小明的课表中增加一门课程 'Python'，删除课程 '编译'，并输出选课列表`course`\n",
    "    （2）这是小明想补选的通选课清单：{'A': ['音数'], 'C': ['三宝'], 'E': ['西音', '西美']}\n",
    "        请用增删改操作修改清单中不正确的通选课分类，并输出通选课清单`elective`\n",
    "        注：音数(A,E),三宝(A),西音(E),西美(D,E)"
   ]
  },
  {
   "cell_type": "code",
   "execution_count": null,
   "metadata": {},
   "outputs": [],
   "source": [
    "course = ['编译', '毛概', '操统']\n",
    "elective = {'A':['音数'], 'C':['三宝'], 'E':['西音','西美']}\n",
    "\n",
    "##请将代码补充完整\n",
    "del course[0]\n",
    "course.append('Python')\n",
    "\n",
    "elective['A'].append('三宝')\n",
    "elective['E'].append('音数')\n",
    "del elective['C']\n",
    "elective['D']='西美'\n",
    "\n",
    "# 验证结果\n",
    "assert('Python' in course)\n",
    "assert('毛概' in course)\n",
    "assert('操统' in course)\n",
    "assert('D' in elective and 'C' not in elective and len(elective.keys())==3)\n",
    "assert('三宝' in elective['A'] and '西美' in elective['D'] and '西美' in elective['E'])\n",
    "print(course)\n",
    "print(elective)"
   ]
  },
  {
   "cell_type": "markdown",
   "metadata": {},
   "source": [
    "### 第二部分：进阶练习\n",
    "\n",
    "#### 2.1 循环语句、表达式\n",
    "    计算数列前10项和\n",
    "$$ a_n = 2*a_{n-1} + \\frac{1}{a_{n-1}}, a_1=1 $$"
   ]
  },
  {
   "cell_type": "code",
   "execution_count": null,
   "metadata": {},
   "outputs": [],
   "source": [
    "a = 1  #  a1 = 1\n",
    "s = 0  # 加和的结果\n",
    "\n",
    "# 以下为待补全部分\n",
    "for i in range(10):\n",
    "    s+=a\n",
    "    a=2*a+1/a\n",
    "\n",
    "print(s)  #1645.5462828566815\n",
    "# 验证结果\n",
    "assert s > 1645 and s < 1646"
   ]
  },
  {
   "cell_type": "markdown",
   "metadata": {},
   "source": [
    "#### 2.2 循环表达式与列表\n",
    "    找出列表中只出现过一次的数字，并将这些数字按原次序保存进另一个列表unique_nums中\n",
    "    例如： 输入：2,6,1,3,7,2,7    输出：6,1,3"
   ]
  },
  {
   "cell_type": "code",
   "execution_count": null,
   "metadata": {},
   "outputs": [],
   "source": [
    "s = '2,6,1,3,7,2,7'\n",
    "nums = s.split(',')\n",
    "unique_nums = []\n",
    "\n",
    "def make_unique(s):\n",
    "    nums = [int(x) for x in s.split(',')]\n",
    "    unique_nums = []\n",
    "    \n",
    "    # 以下为待补全部分\n",
    "    muti=[]  #记录出现过多次的元素\n",
    "    for num in nums:\n",
    "        if(num in unique_nums):\n",
    "            muti.append(num)\n",
    "        if(num not in unique_nums):\n",
    "            unique_nums.append(num)      \n",
    "    \n",
    "    for num in muti:\n",
    "        if(num in unique_nums):\n",
    "            unique_nums.remove(num)\n",
    "    \n",
    "    print(unique_nums)\n",
    "    \n",
    "    return unique_nums\n",
    "\n",
    "# 验证结果\n",
    "assert(make_unique('2,6,1,3,7,2,7')==[6,1,3])\n",
    "assert(make_unique('1,2,3,5,8,1,1,8,6,7,8,0')==[2,3,5,6,7,0])"
   ]
  },
  {
   "cell_type": "markdown",
   "metadata": {},
   "source": [
    "#### 2.3 将以 ':' 和 '|' 为分隔符的字符串处理成 python 字典\n",
    "    例如： 输入：'k:1|k1:2|k2:3|k3:4'    输出：{'k': '1', 'k1': '2', 'k2': '3', 'k3': '4'}"
   ]
  },
  {
   "cell_type": "code",
   "execution_count": null,
   "metadata": {
    "scrolled": true
   },
   "outputs": [],
   "source": [
    "s = 'k:1|k1:2|k2:3|k3:4'\n",
    "result = dict()\n",
    "\n",
    "# 以下为待补全部分 \n",
    "str=s.split('|')\n",
    "for i in str:\n",
    "    dic=i.split(':')\n",
    "    result[dic[0]]=dic[1]\n",
    "    \n",
    "print(result)\n",
    "# 验证结果\n",
    "assert 'k1' in result\n",
    "assert result[\"k1\"] == '2'"
   ]
  },
  {
   "cell_type": "markdown",
   "metadata": {},
   "source": [
    "#### 2.4. 利用filter函数，找出1~200之间的所有素数"
   ]
  },
  {
   "cell_type": "code",
   "execution_count": null,
   "metadata": {},
   "outputs": [],
   "source": [
    "##请将代码补充完整\n",
    "import math\n",
    "# 判断一个数x是否为素数\n",
    "def is_prime(x):\n",
    "    if x==1:\n",
    "        return False\n",
    "    if x==2:\n",
    "        return True\n",
    "    for i in range(2,int(math.sqrt(x)+1)):\n",
    "        if(x%i==0):\n",
    "            return False;\n",
    "    return True\n",
    "\n",
    "# 利用filter机制生成1-200的素数列表\n",
    "prime_list = [i for i in range(1,201)]\n",
    "prime_list = list(filter(is_prime,prime_list))\n",
    "print(prime_list)\n",
    "\n",
    "# 验证结果\n",
    "assert len(prime_list) == 46\n",
    "assert 101 in prime_list"
   ]
  },
  {
   "cell_type": "markdown",
   "metadata": {},
   "source": [
    "#### 2.5. 英文词频统计\n",
    "    输入为以下一段英文，不区分大小写，不计标点符号。\n",
    "    'There is no doubt that happiness is the most precious thing in the world. Without it, life will be empty and meaningless. If you wish to know how to get happiness, you must pay attention to the following two points.'\n",
    "    输出是一个字典，其中字典的key是每个不同的英文单词，value是该单词的出现次数。"
   ]
  },
  {
   "cell_type": "code",
   "execution_count": null,
   "metadata": {},
   "outputs": [],
   "source": [
    "s = 'There is no doubt that happiness is the most precious thing in the world. Without it, life will be empty and meaningless. If you wish to know how to get happiness, you must pay attention to the following two points.'\n",
    "##请将代码补充完整\n",
    "word_freq = {}\n",
    "word=s.split()\n",
    "\n",
    "for w in word:\n",
    "    if ',' in w:\n",
    "        w = w.strip(',')  #','肯定在w的右侧 直接用strip删除   \n",
    "    if '.' in w:\n",
    "        w = w.strip('.')\n",
    "    \n",
    "    if(w not in word_freq):\n",
    "        word_freq[w]=1\n",
    "    else:\n",
    "        word_freq[w]+=1\n",
    "\n",
    "print(word_freq)\n",
    "assert 'is' in word_freq\n",
    "assert word_freq['is'] == 2\n",
    "assert ',' not in word_freq and '.' not in word_freq"
   ]
  }
 ],
 "metadata": {
  "kernelspec": {
   "display_name": "Python 3 (ipykernel)",
   "language": "python",
   "name": "python3"
  },
  "language_info": {
   "codemirror_mode": {
    "name": "ipython",
    "version": 3
   },
   "file_extension": ".py",
   "mimetype": "text/x-python",
   "name": "python",
   "nbconvert_exporter": "python",
   "pygments_lexer": "ipython3",
   "version": "3.9.13"
  },
  "vscode": {
   "interpreter": {
    "hash": "2fd122fbd8058966affa9ffb8cf65fc25598012225e6759255cab2d08f58b784"
   }
  }
 },
 "nbformat": 4,
 "nbformat_minor": 4
}
