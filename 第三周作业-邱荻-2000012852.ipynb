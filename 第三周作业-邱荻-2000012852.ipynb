{
 "cells": [
  {
   "cell_type": "markdown",
   "metadata": {},
   "source": [
    "# Homework_2023_03_02\n",
    "\n",
    "指导老师：胡俊峰\n",
    "\n",
    "负责助教：朱成轩、李一飞\n",
    "\n",
    "已选课、教学网上无法看到这门课的同学可用邮件提交，邮箱仍为liyifei@stu.pku.edu.cn\n",
    "\n",
    "注意：仅需要提交.ipynb文件，请**不要**将下发压缩包中的random_ID_list.txt一并交上。"
   ]
  },
  {
   "cell_type": "markdown",
   "metadata": {},
   "source": [
    "### 作业分数\n",
    "80/100\n",
    "\n",
    "给学习者的反馈\n",
    "\n",
    "23-3-5 下午4:21\n",
    "    \n",
    "1.2.1 没有close f -5\n",
    "\n",
    "1.2.3 -10\n",
    "\n",
    "2.2没有返回结果 -5"
   ]
  },
  {
   "cell_type": "markdown",
   "metadata": {},
   "source": [
    "## 第零部分：请认真阅读代码，理解代码的功能，并简要分析代码"
   ]
  },
  {
   "cell_type": "markdown",
   "metadata": {},
   "source": [
    "### 0.1 python引用计数\n",
    "在一些代码中，如果存在一些变量但是没有用，会造成内存空间，因此叫做垃圾，所以要回收。\n",
    "\n",
    "引用计数增加的场景有：\n",
    "* 对象被创建并赋值给某个变量，比如：a = 'ABC'\n",
    "* 变量间的相互引用（相当于变量指向了同一个对象），比如：b=a\n",
    "* 变量作为参数传到函数中。比如：ref_method(a)，\n",
    "* 将对象放到某个容器对象中(列表、元组、字典)。比如：c = [1, a, 'abc']\n",
    "\n",
    "引用计数减少的场景有：\n",
    "* 当一个变量离开了作用域，比如：函数执行完成时，执行方法前后的引用计数保持不变，这就是因为方法执行完后，对象的引用计数也会减少，如果在方法内打印，则能看到引用计数增加的效果。\n",
    "* 对象的引用变量被销毁时，比如del a或者del b。注意如果del a，再去获取a的引用计数会直接报错。\n",
    "* 对象被从容器对象中移除，比如：c.remove(a)\n",
    "* 直接将整个容器销毁，比如：del c\n",
    "* 对象的引用被赋值给其他对象，相当于变量不指向之前的对象，而是指向了一个新的对象，这种情况，引用计数肯定会发生改变。(排除两个对象默认引用计一致的场景)\n"
   ]
  },
  {
   "cell_type": "code",
   "execution_count": 1,
   "metadata": {},
   "outputs": [
    {
     "name": "stdout",
     "output_type": "stream",
     "text": [
      "测试引用计数增加\n",
      "94\n",
      "95\n",
      "97\n",
      "我调用了A\n",
      "方法执行完了\n",
      "95\n",
      "96\n",
      "测试引用计数减少\n",
      "95\n",
      "94\n",
      "94\n",
      "4\n"
     ]
    }
   ],
   "source": [
    "import sys\n",
    "\n",
    "\n",
    "def ref_method(str):\n",
    "    print(sys.getrefcount(str)) #打印出str的引用计数 在方法内打印，则能看到引用计数增加的效果\n",
    "    print(\"我调用了{}\".format(str))\n",
    "    print('方法执行完了')\n",
    "\n",
    "\n",
    "def ref_count():\n",
    "    # 引用计数增加的场景\n",
    "    print('测试引用计数增加')\n",
    "    a = 'A'     #对象被创建并赋值给某个对象\n",
    "    print(sys.getrefcount(a))  #如77+1=78\n",
    "    b = a       #b指向a 引用计数增加\n",
    "    print(sys.getrefcount(a))  #79\n",
    "    ref_method(a)        #变量作为参数传到函数中 81\n",
    "    print(sys.getrefcount(a))  #79 一个变量离开了作用域（函数执行完成）\n",
    "    c = [1, a, 'abc']          #80 将对象放到某个容器的对象中\n",
    "    print(sys.getrefcount(a))\n",
    "\n",
    "    # 引用计数减少的场景\n",
    "    print('测试引用计数减少')\n",
    "    del b        #79 对象的引用变量被销毁 \n",
    "    print(sys.getrefcount(a))\n",
    "    c.remove(a)  #78 对象从容器中被移除\n",
    "    print(sys.getrefcount(a))\n",
    "    del c        #78 因为a已经从c中移除了\n",
    "    print(sys.getrefcount(a))\n",
    "    a = 783      #a指向了另一个对象\n",
    "    print(sys.getrefcount(a))\n",
    "\n",
    "if __name__ == '__main__':\n",
    "    ref_count()\n",
    "\n",
    "# \"\"\"\n",
    "# ########## 可能的输出 ##########\n",
    "# 测试引用计数增加\n",
    "# 78   #77+1 77在函数中是随机的\n",
    "# 79\n",
    "# 81\n",
    "# 我调用了A\n",
    "# 方法执行完了\n",
    "# 79\n",
    "# 80\n",
    "# 测试引用计数减少\n",
    "# 79\n",
    "# 78\n",
    "# 78\n",
    "# 4\n",
    "# \"\"\""
   ]
  },
  {
   "cell_type": "markdown",
   "metadata": {},
   "source": [
    "### 0.2 阅读下面三段关于迭代器的代码，思考应该有的运行效果。运行代码并观察思考与预想结果有区别的原因。"
   ]
  },
  {
   "cell_type": "code",
   "execution_count": 2,
   "metadata": {},
   "outputs": [
    {
     "name": "stdout",
     "output_type": "stream",
     "text": [
      "1\n",
      "2\n",
      "3\n"
     ]
    }
   ],
   "source": [
    "l = [1, 2, 3]  # define a list\n",
    "l_iter = iter(l)  # create list_iterator\n",
    " \n",
    "while True:\n",
    "    # item will be \"end\" if iteration is complete\n",
    "    item = next(l_iter, \"end\")\n",
    "    if item == \"end\":\n",
    "        break\n",
    "    print(item)"
   ]
  },
  {
   "cell_type": "markdown",
   "metadata": {},
   "source": [
    "### 预想的结果\n",
    "1\n",
    "\n",
    "2\n",
    "\n",
    "3"
   ]
  },
  {
   "cell_type": "code",
   "execution_count": 4,
   "metadata": {},
   "outputs": [
    {
     "ename": "TypeError",
     "evalue": "'list' object is not an iterator",
     "output_type": "error",
     "traceback": [
      "\u001b[0;31m---------------------------------------------------------------------------\u001b[0m",
      "\u001b[0;31mTypeError\u001b[0m                                 Traceback (most recent call last)",
      "\u001b[0;32m/var/folders/xw/v6yjfmzn2hvglj9fm0cb4xbm0000ks/T/ipykernel_40581/2046602639.py\u001b[0m in \u001b[0;36m<module>\u001b[0;34m\u001b[0m\n\u001b[1;32m      2\u001b[0m \u001b[0;34m\u001b[0m\u001b[0m\n\u001b[1;32m      3\u001b[0m \u001b[0;32mwhile\u001b[0m \u001b[0;32mTrue\u001b[0m\u001b[0;34m:\u001b[0m\u001b[0;34m\u001b[0m\u001b[0;34m\u001b[0m\u001b[0m\n\u001b[0;32m----> 4\u001b[0;31m     \u001b[0mitem\u001b[0m \u001b[0;34m=\u001b[0m \u001b[0mnext\u001b[0m\u001b[0;34m(\u001b[0m\u001b[0mli\u001b[0m\u001b[0;34m,\u001b[0m \u001b[0;34m\"end\"\u001b[0m\u001b[0;34m)\u001b[0m\u001b[0;34m\u001b[0m\u001b[0;34m\u001b[0m\u001b[0m\n\u001b[0m\u001b[1;32m      5\u001b[0m     \u001b[0;32mif\u001b[0m \u001b[0mitem\u001b[0m \u001b[0;34m==\u001b[0m \u001b[0;34m\"end\"\u001b[0m\u001b[0;34m:\u001b[0m\u001b[0;34m\u001b[0m\u001b[0;34m\u001b[0m\u001b[0m\n\u001b[1;32m      6\u001b[0m         \u001b[0;32mbreak\u001b[0m\u001b[0;34m\u001b[0m\u001b[0;34m\u001b[0m\u001b[0m\n",
      "\u001b[0;31mTypeError\u001b[0m: 'list' object is not an iterator"
     ]
    }
   ],
   "source": [
    "li = [1, 2, 3]  # define a list\n",
    " \n",
    "while True:\n",
    "    item = next(li, \"end\")\n",
    "    if item == \"end\":\n",
    "        break\n",
    "    print(item)"
   ]
  },
  {
   "cell_type": "markdown",
   "metadata": {},
   "source": [
    "### 预想的结果\n",
    "TypeError: 'list' object is not an iterator"
   ]
  },
  {
   "cell_type": "code",
   "execution_count": 5,
   "metadata": {},
   "outputs": [
    {
     "name": "stdout",
     "output_type": "stream",
     "text": [
      "1\n",
      "2\n",
      "3\n"
     ]
    }
   ],
   "source": [
    "l = (i for i in [1, 2, 3])  # define a generater\n",
    " \n",
    "while True:\n",
    "    item = next(l,'end')\n",
    "    if item == \"end\":\n",
    "        break\n",
    "    print(item)"
   ]
  },
  {
   "cell_type": "markdown",
   "metadata": {},
   "source": [
    "### 预想的结果\n",
    "1\n",
    "\n",
    "2\n",
    "\n",
    "3"
   ]
  },
  {
   "cell_type": "markdown",
   "metadata": {},
   "source": [
    "#### 0.3 阅读理解下面多继承关系的例子（from：geeksforgeeks）"
   ]
  },
  {
   "cell_type": "code",
   "execution_count": 8,
   "metadata": {
    "scrolled": true
   },
   "outputs": [
    {
     "name": "stdout",
     "output_type": "stream",
     "text": [
      "Dog cannot fly\n",
      "Dog cannot swim\n",
      "Dog Is a mammal\n",
      "[<class '__main__.Animal'>, <class '__main__.canFly'>, <class '__main__.canSwim'>, <class '__main__.Mammal'>, <class 'object'>]\n"
     ]
    }
   ],
   "source": [
    "class Mammal():\n",
    " \n",
    "    def __init__(self, name):\n",
    "        print(name, \"Is a mammal\")\n",
    " \n",
    "class canFly(Mammal):\n",
    " \n",
    "    def __init__(self, canFly_name):\n",
    "        print(canFly_name, \"cannot fly\")\n",
    " \n",
    "        # Calling Parent class\n",
    "        # Constructor\n",
    "        super().__init__(canFly_name)\n",
    " \n",
    "class canSwim(Mammal):\n",
    " \n",
    "    def __init__(self, canSwim_name):\n",
    " \n",
    "        print(canSwim_name, \"cannot swim\")\n",
    " \n",
    "        super().__init__(canSwim_name)\n",
    " \n",
    "class Animal(canFly, canSwim):  #继承自canFly和canSwim\n",
    " \n",
    "    def __init__(self, name):\n",
    "        super().__init__(name)\n",
    " \n",
    "# Driver Code\n",
    "Carol = Animal(\"Dog\")   #菱形继承 广度优先\n",
    "print(Animal.mro())   # Method Resolution Order（方法解析顺序） "
   ]
  },
  {
   "cell_type": "markdown",
   "metadata": {},
   "source": [
    "## 第一部分：基础练习（75 分）\n"
   ]
  },
  {
   "cell_type": "markdown",
   "metadata": {},
   "source": [
    "#### 1.1 创建一个名为PkuClass 的类，完成以下要求：\n",
    "1. 该类的\\_\\_init\\_\\_()方法需要两个参数，依次用于指定课程的学生人数与老师人数。（5分）\n",
    "2. 该类有一个名为describe_class()的方法，能够返回student_num和teacher_num。（5分）\n",
    "3. 该类有一个名为quit_class()的方法，需要一个参数，功能是减去传入参数相应的退课学生数。（5分）"
   ]
  },
  {
   "cell_type": "code",
   "execution_count": 1,
   "metadata": {},
   "outputs": [
    {
     "name": "stdout",
     "output_type": "stream",
     "text": [
      "Test passed!\n"
     ]
    }
   ],
   "source": [
    "class PkuClass:\n",
    "    def __init__(self, s_n, t_n):\n",
    "        # TODO\n",
    "        self.student_num = s_n\n",
    "        self.teacher_num = t_n\n",
    "    \n",
    "    def describe_class(self):\n",
    "        # TODO\n",
    "        return (self.student_num,self.teacher_num)\n",
    "    \n",
    "    def quit(self,s_n):\n",
    "        # TODO\n",
    "        self.student_num -= s_n\n",
    "        \n",
    "pkuclass = PkuClass(100,1)\n",
    "pkuclass.quit(10)\n",
    "assert pkuclass.describe_class() == (90,1)\n",
    "print('Test passed!')"
   ]
  },
  {
   "cell_type": "markdown",
   "metadata": {},
   "source": [
    "#### 1.2 继承PkuClass类实现一个PythonClass，同时完成以下要求：\n",
    "1. 修改__init__()方法，传入参数为文件名与老师的数量，从而导入选课学生的ID到student_id属性（15分）\n",
    "2. 修改相应默认函数，使得可以用自然数index作为键，来获取对应的选课名单中的第index个学生的ID（若index超出选课人数，返回None）（10分）\n",
    "3. 修改相应默认函数，使得直接print该类的对象就能在屏幕中打出该课程的学生人数和教师人数 (输出格式为：该课共有学生x人,老师y人)（10分）"
   ]
  },
  {
   "cell_type": "code",
   "execution_count": 18,
   "metadata": {},
   "outputs": [
    {
     "name": "stdout",
     "output_type": "stream",
     "text": [
      "<__main__.PythonClass object at 0x7f90a2043640>\n",
      "Test passed!\n"
     ]
    }
   ],
   "source": [
    "class PythonClass(PkuClass):\n",
    "    def __init__(self,filename,t_n):\n",
    "        # TODO\n",
    "        f=open(filename)\n",
    "        self.student_id=[]\n",
    "        line=f.readline()\n",
    "        line = line.strip('\\n') #去除换行符\n",
    "        cnt=1\n",
    "        self.student_id.append(line) \n",
    "        while True:\n",
    "            line=f.readline()\n",
    "            if not line:\n",
    "                break\n",
    "            line = line.strip('\\n')\n",
    "            self.student_id.append(line)\n",
    "            cnt+=1     \n",
    "        super().__init__(cnt,t_n)\n",
    "\n",
    "    # TODO\n",
    "    def __getitem__(self,index):\n",
    "        if index>=self.student_num:\n",
    "            return None\n",
    "        return self.student_id[index]\n",
    "\n",
    "import os\n",
    "if 'random_ID_list.txt' not in os.listdir('.'):\n",
    "    raise IOError(\"请将压缩包中的random_ID_list.txt放到当前目录下！\")\n",
    "pythonclass = PythonClass('random_ID_list.txt',9)\n",
    "print(pythonclass)\n",
    "assert pythonclass[1000] is None\n",
    "assert pythonclass[0]=='21001078023'\n",
    "assert pythonclass[100]=='19101027694'\n",
    "pythonclass.quit(25)\n",
    "assert pythonclass[266] is None\n",
    "assert pythonclass.describe_class() == (265,9)\n",
    "print(\"Test passed!\")"
   ]
  },
  {
   "cell_type": "markdown",
   "metadata": {},
   "source": [
    "#### 1.3 请实现一个自定义队列类并完成模板中相应的函数（25分）\n",
    "注：队列的特点是“先进先出”，即入队列的元素会添加在队尾，出队列则是先弹出队首的元素。"
   ]
  },
  {
   "cell_type": "code",
   "execution_count": 29,
   "metadata": {},
   "outputs": [
    {
     "name": "stdout",
     "output_type": "stream",
     "text": [
      "Test passed!\n"
     ]
    }
   ],
   "source": [
    "class Queue():\n",
    "    # 用*arg来初始化队列\n",
    "    def __init__(self, *arg):\n",
    "        # TODO\n",
    "        self.q=[]\n",
    "        self.push_num=0\n",
    "        self.pop_num=0\n",
    "        for elem in arg:\n",
    "            self.q.append(elem)\n",
    "\n",
    "    # 队末增加一个元素\n",
    "    def push(self,item):\n",
    "        # TODO\n",
    "        self.q.append(item)\n",
    "        self.push_num+=1\n",
    "\n",
    "    # 弹出队首的一个元素\n",
    "    def pop(self):\n",
    "        # TODO\n",
    "        self.q.pop(0)\n",
    "        self.pop_num+=1\n",
    "        \n",
    "    # 输出队列中元素总数\n",
    "    def __len__(self):\n",
    "        # TODO\n",
    "        return len(self.q)\n",
    "    \n",
    "    # 返回由2个元素构成的tuple，表示创建以来该队列的压入(push)次数和弹出(pop)次数\n",
    "    def count(self):\n",
    "        # TODO\n",
    "        return (self.push_num,self.pop_num)\n",
    "    \n",
    "    # 判断两个队列是否相等，这里的相等定义为队列内逐元素相等(相等时返回True，否则返回False)\n",
    "    def __eq__(self, y):\n",
    "        # TODO\n",
    "        index=0\n",
    "        for elem in self.q:\n",
    "            if elem!=y.q[index]:\n",
    "                return False\n",
    "            index+=1\n",
    "        return True\n",
    "\n",
    "queue = Queue(1, 2, 3, 4)\n",
    "assert len(queue) == 4\n",
    "queue.push(3)\n",
    "queue.pop()\n",
    "queue.push(4)\n",
    "assert queue.count() == (2, 1)\n",
    "testqueue = Queue(2, 3, 4, 3, 4)\n",
    "assert queue == testqueue\n",
    "q2 = Queue(*[i for i in range(1000)])\n",
    "q3 = Queue()\n",
    "assert len(q3)==0\n",
    "for i in range(-1,1000):\n",
    "    q3.push(i)\n",
    "q3.pop()\n",
    "assert q2 == q3\n",
    "q3.push(0)\n",
    "q3.pop()\n",
    "assert q3 != q2\n",
    "print('Test passed!')"
   ]
  },
  {
   "cell_type": "markdown",
   "metadata": {},
   "source": [
    "## 第二部分：进阶练习（25分）\n",
    "\n",
    "#### 2.1 根据给出的二叉树类的定义，补全代码（建树代码也已给出）：\n",
    "- (1) 实现BinaryTree类的height函数，返回二叉树的高度（5分）\n",
    "- (2) 实现BinayTree类的items函数，返回二叉树的中序遍历序列（用list表示）（10分）\n",
    "- (3) （选做）通过重写\\_\\_iter\\_\\_()等函数，编写一个可迭代的二叉树类，使得可以用for循环输出中序遍历序列（不计分）"
   ]
  },
  {
   "cell_type": "code",
   "execution_count": 20,
   "metadata": {},
   "outputs": [],
   "source": [
    "class BinaryTree():\n",
    "    def __init__(self, rootObj):\n",
    "        self.key = rootObj\n",
    "        self.leftChild = None\n",
    "        self.rightChild = None\n",
    "        self.start_num = -1\n",
    "\n",
    "    def insertLeft(self, newNode):\n",
    "        if self.leftChild == None:\n",
    "            self.leftChild = BinaryTree(newNode)\n",
    "        else:\n",
    "            t = BinaryTree(newNode)\n",
    "            t.leftChild = self.leftChild\n",
    "            self.leftChild = t\n",
    "\n",
    "    def insertRight(self, newNode):\n",
    "        if self.rightChild == None:\n",
    "            self.rightChild = BinaryTree(newNode)\n",
    "        else:\n",
    "            t = BinaryTree(newNode)\n",
    "            t.rightChild = self.rightChild\n",
    "            self.rightChild = t\n",
    "\n",
    "    def getRightChild(self):\n",
    "        return self.rightChild\n",
    "\n",
    "    def getLeftChild(self):\n",
    "        return self.leftChild\n",
    "\n",
    "    def setRootVal(self, obj):\n",
    "        self.key = obj\n",
    "\n",
    "    def getRootVal(self):\n",
    "        return self.key\n",
    "    # 以上代码无需改动！\n",
    "    \n",
    "    def height(self): \n",
    "        # TODO\n",
    "        #dfs\n",
    "        left_height=0\n",
    "        right_height=0\n",
    "        if(self.rightChild != None):\n",
    "            left_height=self.rightChild.height()\n",
    "        if(self.leftChild != None):\n",
    "            right_height=self.leftChild.height()\n",
    "            \n",
    "        return max(left_height,right_height)+1\n",
    "\n",
    "    def items(self):\n",
    "        # TODO\n",
    "        lis=[]\n",
    "        if self.leftChild != None:\n",
    "            lis += self.leftChild.items()\n",
    "            \n",
    "        lis.append(self.key)\n",
    "        \n",
    "        if self.rightChild != None:\n",
    "            lis += self.rightChild.items()\n",
    "            \n",
    "        return lis\n",
    "        \n",
    "     \n",
    "    \n",
    "    # 若要完成选做题，请自行定义其它需要的函数或属性\n",
    "    def __iter__(self):\n",
    "        '''\n",
    "        @summary: 迭代器，生成迭代对象时调用，返回值必须是对象自己,然后for可以循环调用next方法\n",
    "        '''\n",
    "        return self\n",
    "\n",
    "    def __next__(self):\n",
    "        '''\n",
    "        @summary: 每一次for循环都调用该方法（必须存在）\n",
    "        '''\n",
    "        self.start_num += 1\n",
    "        l=self.items()\n",
    "        if self.start_num >= len(l):\n",
    "            raise StopIteration()\n",
    "        return l[self.start_num]\n"
   ]
  },
  {
   "cell_type": "code",
   "execution_count": 21,
   "metadata": {},
   "outputs": [
    {
     "name": "stdout",
     "output_type": "stream",
     "text": [
      "4\n",
      "Test passed!\n",
      "[1, 3, 4, 6, 7, 8, 10, 13, 14]\n",
      "1\n",
      "3\n",
      "4\n",
      "6\n",
      "7\n",
      "8\n",
      "10\n",
      "13\n",
      "14\n"
     ]
    }
   ],
   "source": [
    "# 建树\n",
    "rt = BinaryTree(8)\n",
    "rt.insertLeft(1)\n",
    "rt.insertLeft(3)\n",
    "rt.getLeftChild().insertRight(6)\n",
    "t = rt.getLeftChild().getRightChild()\n",
    "t.insertLeft(4)\n",
    "t.insertRight(7)\n",
    "rt.insertRight(14)\n",
    "rt.insertRight(10)\n",
    "t = rt.getRightChild().getRightChild()\n",
    "t.insertLeft(13)\n",
    "\n",
    "print(rt.height())\n",
    "assert rt.height() == 4\n",
    "assert rt.items() == [1,3,4,6,7,8,10,13,14]\n",
    "print(\"Test passed!\")\n",
    "print(rt.items())\n",
    "for item in rt:\n",
    "    print(item)"
   ]
  },
  {
   "cell_type": "markdown",
   "metadata": {},
   "source": [
    "####  2.2 设计一个基于类实现的decorator，它可作用于任何函数上，并打印该函数的执行时间（10分）"
   ]
  },
  {
   "cell_type": "code",
   "execution_count": 27,
   "metadata": {},
   "outputs": [
    {
     "name": "stdout",
     "output_type": "stream",
     "text": [
      "0.5324399471282959\n"
     ]
    }
   ],
   "source": [
    "import time\n",
    "\n",
    "# TODO\n",
    "class show_time():\n",
    "    def __init__(self,func):\n",
    "        self.func=func\n",
    "        \n",
    "    def __call__(self,*args, **kwargs):\n",
    "        t1=time.time()\n",
    "        self.func(*args, **kwargs)\n",
    "        t2=time.time()\n",
    "        print(t2-t1)\n",
    "        \n",
    "@show_time\n",
    "def test(steps):\n",
    "    sum=0\n",
    "    for i in range(int(steps)):\n",
    "        sum+=i\n",
    "    return sum\n",
    "\n",
    "test(1e7)"
   ]
  },
  {
   "cell_type": "markdown",
   "metadata": {},
   "source": [
    "注意：仅需要提交.ipynb文件，请**不要**将下发压缩包中的random_ID_list.txt一并交上。"
   ]
  }
 ],
 "metadata": {
  "file_extension": ".py",
  "kernelspec": {
   "display_name": "Python 3 (ipykernel)",
   "language": "python",
   "name": "python3"
  },
  "language_info": {
   "codemirror_mode": {
    "name": "ipython",
    "version": 3
   },
   "file_extension": ".py",
   "mimetype": "text/x-python",
   "name": "python",
   "nbconvert_exporter": "python",
   "pygments_lexer": "ipython3",
   "version": "3.9.13"
  },
  "mimetype": "text/x-python",
  "name": "python",
  "npconvert_exporter": "python",
  "pygments_lexer": "ipython3",
  "version": 3,
  "vscode": {
   "interpreter": {
    "hash": "b0fa6594d8f4cbf19f97940f81e996739fb7646882a419484c72d19e05852a7e"
   }
  }
 },
 "nbformat": 4,
 "nbformat_minor": 2
}
